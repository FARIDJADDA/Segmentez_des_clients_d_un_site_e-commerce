{
 "cells": [
  {
   "cell_type": "markdown",
   "id": "8f5a1004",
   "metadata": {},
   "source": [
    "# Simulation de Contrat de Maintenance et Analyse de Stabilité des Clusters\n",
    "\n",
    "## Objectif\n",
    "L'objectif de cette analyse est de simuler l'évolution de la stabilité des clusters de clients sur une période de 12 semaines afin de déterminer la nécessité de réentraîner le modèle de clustering.\n",
    "\n",
    "## Données\n",
    "Nous utilisons un jeu de données qui comprend les variables `customer_unique_id`, `recence`, `frequence`, `montant_total`, et `score_review_minimum`, ainsi que l'étiquette de cluster attribuée initialement.\n"
   ]
  },
  {
   "cell_type": "code",
   "execution_count": 1,
   "id": "b7ecad05",
   "metadata": {},
   "outputs": [],
   "source": [
    "import sqlite3\n",
    "from datetime import datetime, timedelta\n",
    "import pandas as pd\n",
    "import numpy as np\n",
    "from sklearn.cluster import KMeans\n",
    "from sklearn.metrics import adjusted_rand_score\n",
    "import matplotlib.pyplot as plt\n",
    "import seaborn as sns\n",
    "\n",
    "from sklearn.preprocessing import StandardScaler\n",
    "\n",
    "import sys\n",
    "import os\n",
    "import warnings\n",
    "warnings.filterwarnings(\"ignore\")"
   ]
  },
  {
   "cell_type": "code",
   "execution_count": 2,
   "id": "56802342",
   "metadata": {},
   "outputs": [],
   "source": [
    "path = 'C:/Users/Farid/Documents/OC/Cursus_Data_Scientist/Projet_5/data'"
   ]
  },
  {
   "cell_type": "code",
   "execution_count": 3,
   "id": "17499b09",
   "metadata": {},
   "outputs": [
    {
     "data": {
      "text/plain": [
       "['fichier_client.csv', 'olist.db', 'scaled_data.csv', 'scaler.joblib']"
      ]
     },
     "execution_count": 3,
     "metadata": {},
     "output_type": "execute_result"
    }
   ],
   "source": [
    "os.listdir(path)"
   ]
  },
  {
   "cell_type": "code",
   "execution_count": 4,
   "id": "9cc53361",
   "metadata": {},
   "outputs": [
    {
     "data": {
      "text/html": [
       "<div>\n",
       "<style scoped>\n",
       "    .dataframe tbody tr th:only-of-type {\n",
       "        vertical-align: middle;\n",
       "    }\n",
       "\n",
       "    .dataframe tbody tr th {\n",
       "        vertical-align: top;\n",
       "    }\n",
       "\n",
       "    .dataframe thead th {\n",
       "        text-align: right;\n",
       "    }\n",
       "</style>\n",
       "<table border=\"1\" class=\"dataframe\">\n",
       "  <thead>\n",
       "    <tr style=\"text-align: right;\">\n",
       "      <th></th>\n",
       "      <th>customer_unique_id</th>\n",
       "      <th>recence</th>\n",
       "      <th>frequence</th>\n",
       "      <th>montant_total</th>\n",
       "      <th>score_review_minimum</th>\n",
       "    </tr>\n",
       "  </thead>\n",
       "  <tbody>\n",
       "    <tr>\n",
       "      <th>0</th>\n",
       "      <td>0000366f3b9a7992bf8c76cfdf3221e2</td>\n",
       "      <td>153.132905</td>\n",
       "      <td>1</td>\n",
       "      <td>129.90</td>\n",
       "      <td>5</td>\n",
       "    </tr>\n",
       "    <tr>\n",
       "      <th>1</th>\n",
       "      <td>0000b849f77a49e4a4ce2b2a4ca5be3f</td>\n",
       "      <td>159.248125</td>\n",
       "      <td>1</td>\n",
       "      <td>18.90</td>\n",
       "      <td>4</td>\n",
       "    </tr>\n",
       "    <tr>\n",
       "      <th>2</th>\n",
       "      <td>0000f46a3911fa3c0805444483337064</td>\n",
       "      <td>559.389734</td>\n",
       "      <td>1</td>\n",
       "      <td>69.00</td>\n",
       "      <td>3</td>\n",
       "    </tr>\n",
       "    <tr>\n",
       "      <th>3</th>\n",
       "      <td>0000f6ccb0745a6a4b88665a16c9f078</td>\n",
       "      <td>349.108970</td>\n",
       "      <td>1</td>\n",
       "      <td>25.99</td>\n",
       "      <td>4</td>\n",
       "    </tr>\n",
       "    <tr>\n",
       "      <th>4</th>\n",
       "      <td>0004aac84e0df4da2b147fca70cf8255</td>\n",
       "      <td>323.035463</td>\n",
       "      <td>1</td>\n",
       "      <td>180.00</td>\n",
       "      <td>5</td>\n",
       "    </tr>\n",
       "  </tbody>\n",
       "</table>\n",
       "</div>"
      ],
      "text/plain": [
       "                 customer_unique_id     recence  frequence  montant_total  \\\n",
       "0  0000366f3b9a7992bf8c76cfdf3221e2  153.132905          1         129.90   \n",
       "1  0000b849f77a49e4a4ce2b2a4ca5be3f  159.248125          1          18.90   \n",
       "2  0000f46a3911fa3c0805444483337064  559.389734          1          69.00   \n",
       "3  0000f6ccb0745a6a4b88665a16c9f078  349.108970          1          25.99   \n",
       "4  0004aac84e0df4da2b147fca70cf8255  323.035463          1         180.00   \n",
       "\n",
       "   score_review_minimum  \n",
       "0                     5  \n",
       "1                     4  \n",
       "2                     3  \n",
       "3                     4  \n",
       "4                     5  "
      ]
     },
     "execution_count": 4,
     "metadata": {},
     "output_type": "execute_result"
    }
   ],
   "source": [
    "customer_file = pd.read_csv(path + '/fichier_client.csv')\n",
    "customer_file.head()"
   ]
  },
  {
   "cell_type": "markdown",
   "id": "ca0f9905",
   "metadata": {},
   "source": [
    "## Prétraitement des Données\n",
    "Application de la normalisation sur les caractéristiques numériques pour préparer les données au clustering."
   ]
  },
  {
   "cell_type": "code",
   "execution_count": 5,
   "id": "64ff1246",
   "metadata": {},
   "outputs": [
    {
     "data": {
      "text/html": [
       "<div>\n",
       "<style scoped>\n",
       "    .dataframe tbody tr th:only-of-type {\n",
       "        vertical-align: middle;\n",
       "    }\n",
       "\n",
       "    .dataframe tbody tr th {\n",
       "        vertical-align: top;\n",
       "    }\n",
       "\n",
       "    .dataframe thead th {\n",
       "        text-align: right;\n",
       "    }\n",
       "</style>\n",
       "<table border=\"1\" class=\"dataframe\">\n",
       "  <thead>\n",
       "    <tr style=\"text-align: right;\">\n",
       "      <th></th>\n",
       "      <th>recence</th>\n",
       "      <th>frequence</th>\n",
       "      <th>montant_total</th>\n",
       "      <th>score_review_minimum</th>\n",
       "    </tr>\n",
       "  </thead>\n",
       "  <tbody>\n",
       "    <tr>\n",
       "      <th>0</th>\n",
       "      <td>-0.789847</td>\n",
       "      <td>-0.160071</td>\n",
       "      <td>-0.053605</td>\n",
       "      <td>0.663454</td>\n",
       "    </tr>\n",
       "    <tr>\n",
       "      <th>1</th>\n",
       "      <td>-0.749598</td>\n",
       "      <td>-0.160071</td>\n",
       "      <td>-0.571158</td>\n",
       "      <td>-0.109947</td>\n",
       "    </tr>\n",
       "    <tr>\n",
       "      <th>2</th>\n",
       "      <td>1.884037</td>\n",
       "      <td>-0.160071</td>\n",
       "      <td>-0.337560</td>\n",
       "      <td>-0.883349</td>\n",
       "    </tr>\n",
       "    <tr>\n",
       "      <th>3</th>\n",
       "      <td>0.500020</td>\n",
       "      <td>-0.160071</td>\n",
       "      <td>-0.538100</td>\n",
       "      <td>-0.109947</td>\n",
       "    </tr>\n",
       "    <tr>\n",
       "      <th>4</th>\n",
       "      <td>0.328411</td>\n",
       "      <td>-0.160071</td>\n",
       "      <td>0.179993</td>\n",
       "      <td>0.663454</td>\n",
       "    </tr>\n",
       "  </tbody>\n",
       "</table>\n",
       "</div>"
      ],
      "text/plain": [
       "    recence  frequence  montant_total  score_review_minimum\n",
       "0 -0.789847  -0.160071      -0.053605              0.663454\n",
       "1 -0.749598  -0.160071      -0.571158             -0.109947\n",
       "2  1.884037  -0.160071      -0.337560             -0.883349\n",
       "3  0.500020  -0.160071      -0.538100             -0.109947\n",
       "4  0.328411  -0.160071       0.179993              0.663454"
      ]
     },
     "execution_count": 5,
     "metadata": {},
     "output_type": "execute_result"
    }
   ],
   "source": [
    "# Sélection des caractéristiques pour le clustering\n",
    "features = customer_file[['recence', 'frequence', 'montant_total', 'score_review_minimum']]\n",
    "\n",
    "# Création de l'objet StandardScaler et normalisation des caractéristiques\n",
    "scaler = StandardScaler()\n",
    "scaled_features = scaler.fit_transform(features)\n",
    "\n",
    "# Création d'un DataFrame pour les caractéristiques normalisées\n",
    "scaled_df = pd.DataFrame(scaled_features, columns=features.columns)\n",
    "\n",
    "# Affichage des premières lignes pour vérifier la normalisation\n",
    "scaled_df.head()"
   ]
  },
  {
   "cell_type": "markdown",
   "id": "f56fee03",
   "metadata": {},
   "source": [
    "# Étape 1 :  Préparation des données"
   ]
  },
  {
   "cell_type": "code",
   "execution_count": 6,
   "id": "c6801ef5",
   "metadata": {},
   "outputs": [],
   "source": [
    "def collecte_donnees(date_debut, date_fin, date_reference='2018-10-17'):\n",
    "    \"\"\"\n",
    "    Collecte les données clients entre date_debut et date_fin spécifiées,\n",
    "    en utilisant date_reference pour calculer la récence.\n",
    "    \"\"\"\n",
    "    conn = sqlite3.connect(path + '/olist.db')\n",
    "    \n",
    "    query = f\"\"\"\n",
    "    WITH \n",
    "    Recence AS (\n",
    "      SELECT \n",
    "        c.customer_unique_id, \n",
    "        (julianday('{date_reference}') - julianday(MAX(o.order_delivered_customer_date))) AS recence\n",
    "      FROM customers c\n",
    "      JOIN orders o ON c.customer_id = o.customer_id\n",
    "      WHERE o.order_status <> 'canceled'\n",
    "        AND o.order_delivered_customer_date IS NOT NULL\n",
    "        AND o.order_delivered_customer_date BETWEEN '{date_debut}' AND '{date_fin}'\n",
    "      GROUP BY c.customer_unique_id\n",
    "    ),\n",
    "    Frequence AS (\n",
    "      SELECT \n",
    "        c.customer_unique_id, \n",
    "        COUNT(DISTINCT o.order_id) AS frequence\n",
    "      FROM customers c\n",
    "      JOIN orders o ON c.customer_id = o.customer_id\n",
    "      WHERE o.order_status <> 'canceled'\n",
    "        AND o.order_delivered_customer_date IS NOT NULL\n",
    "        AND o.order_delivered_customer_date BETWEEN '{date_debut}' AND '{date_fin}'\n",
    "      GROUP BY c.customer_unique_id\n",
    "    ),\n",
    "    Montant AS (\n",
    "      SELECT \n",
    "        c.customer_unique_id,\n",
    "        SUM(oi.price) AS montant_total\n",
    "      FROM customers c\n",
    "      JOIN orders o ON c.customer_id = o.customer_id\n",
    "      JOIN order_items oi ON o.order_id = oi.order_id\n",
    "      WHERE o.order_status <> 'canceled'\n",
    "        AND o.order_delivered_customer_date IS NOT NULL\n",
    "        AND o.order_delivered_customer_date BETWEEN '{date_debut}' AND '{date_fin}'\n",
    "      GROUP BY c.customer_unique_id\n",
    "    ),\n",
    "    ScoreReview AS (\n",
    "      SELECT \n",
    "        c.customer_unique_id,\n",
    "        MIN(r.review_score) AS score_review_minimum\n",
    "      FROM customers c\n",
    "      JOIN orders o ON c.customer_id = o.customer_id\n",
    "      JOIN order_reviews r ON o.order_id = r.order_id\n",
    "      WHERE o.order_status <> 'canceled'\n",
    "        AND o.order_delivered_customer_date IS NOT NULL\n",
    "        AND o.order_delivered_customer_date BETWEEN '{date_debut}' AND '{date_fin}'\n",
    "      GROUP BY c.customer_unique_id\n",
    "    )\n",
    "    SELECT \n",
    "        r.customer_unique_id,\n",
    "        r.recence,\n",
    "        f.frequence,\n",
    "        m.montant_total,\n",
    "        sr.score_review_minimum\n",
    "    FROM Recence r\n",
    "    JOIN Frequence f ON r.customer_unique_id = f.customer_unique_id\n",
    "    JOIN Montant m ON r.customer_unique_id = m.customer_unique_id\n",
    "    JOIN ScoreReview sr ON r.customer_unique_id = sr.customer_unique_id;\n",
    "    \"\"\"\n",
    "    \n",
    "    df = pd.read_sql_query(query, conn)\n",
    "    conn.close()\n",
    "    return df"
   ]
  },
  {
   "cell_type": "code",
   "execution_count": 7,
   "id": "c1767ebb",
   "metadata": {},
   "outputs": [],
   "source": [
    "# Modèle 0 : Données jusqu'à janvier 2018 inclus\n",
    "df_mod0 = collecte_donnees(date_debut='2016-10-11', date_fin='2018-01-31')\n",
    "\n",
    "# Modèle 1 : Données jusqu'à janvier 2018 plus une semaine\n",
    "df_mod1 = collecte_donnees(date_debut='2016-10-11', date_fin='2018-02-07')"
   ]
  },
  {
   "cell_type": "markdown",
   "id": "b9863788",
   "metadata": {},
   "source": [
    "## Vérification des Statistiques descriptives"
   ]
  },
  {
   "cell_type": "code",
   "execution_count": 8,
   "id": "ff26a177",
   "metadata": {},
   "outputs": [
    {
     "name": "stdout",
     "output_type": "stream",
     "text": [
      "            recence     frequence  montant_total  score_review_minimum\n",
      "count  45730.000000  45730.000000   45730.000000          45730.000000\n",
      "mean     402.782846      1.030899     140.145068              4.175027\n",
      "std      103.043510      0.195811     218.967877              1.253786\n",
      "min      259.000741      1.000000       2.290000              1.000000\n",
      "25%      312.402216      1.000000      47.490000              4.000000\n",
      "50%      386.216748      1.000000      88.000000              5.000000\n",
      "75%      482.288990      1.000000     152.190000              5.000000\n",
      "max      735.426019      8.000000   13440.000000              5.000000\n"
     ]
    }
   ],
   "source": [
    "print(df_mod0.describe())"
   ]
  },
  {
   "cell_type": "code",
   "execution_count": 9,
   "id": "4eee0100",
   "metadata": {},
   "outputs": [
    {
     "name": "stdout",
     "output_type": "stream",
     "text": [
      "            recence     frequence  montant_total  score_review_minimum\n",
      "count  47252.000000  47252.000000   47252.000000          47252.000000\n",
      "mean     397.935812      1.031131     139.861350              4.173263\n",
      "std      104.705477      0.196540     217.662073              1.255110\n",
      "min      252.000266      1.000000       2.290000              1.000000\n",
      "25%      307.491152      1.000000      47.490000              4.000000\n",
      "50%      381.355006      1.000000      88.900000              5.000000\n",
      "75%      477.468825      1.000000     152.000000              5.000000\n",
      "max      735.426019      8.000000   13440.000000              5.000000\n"
     ]
    }
   ],
   "source": [
    "print(df_mod1.describe())"
   ]
  },
  {
   "cell_type": "markdown",
   "id": "5dd73609",
   "metadata": {},
   "source": [
    "## Vérification de l'Intégrité des Données"
   ]
  },
  {
   "cell_type": "code",
   "execution_count": 10,
   "id": "76c5c1c1",
   "metadata": {},
   "outputs": [
    {
     "name": "stdout",
     "output_type": "stream",
     "text": [
      "customer_unique_id      0\n",
      "recence                 0\n",
      "frequence               0\n",
      "montant_total           0\n",
      "score_review_minimum    0\n",
      "dtype: int64\n"
     ]
    }
   ],
   "source": [
    "print(df_mod0.isnull().sum())"
   ]
  },
  {
   "cell_type": "code",
   "execution_count": 11,
   "id": "b8a28bff",
   "metadata": {},
   "outputs": [
    {
     "name": "stdout",
     "output_type": "stream",
     "text": [
      "customer_unique_id      0\n",
      "recence                 0\n",
      "frequence               0\n",
      "montant_total           0\n",
      "score_review_minimum    0\n",
      "dtype: int64\n"
     ]
    }
   ],
   "source": [
    "print(df_mod1.isnull().sum())"
   ]
  },
  {
   "cell_type": "markdown",
   "id": "3fdeec64",
   "metadata": {},
   "source": [
    "##  Analyse des Tendances Temporelles"
   ]
  },
  {
   "cell_type": "code",
   "execution_count": 12,
   "id": "2fa664f3",
   "metadata": {},
   "outputs": [
    {
     "data": {
      "image/png": "[encoded data removed]",
      "text/plain": [
       "<Figure size 640x480 with 1 Axes>"
      ]
     },
     "metadata": {},
     "output_type": "display_data"
    },
    {
     "data": {
      "image/png": "[encoded data removed]",
      "text/plain": [
       "<Figure size 640x480 with 1 Axes>"
      ]
     },
     "metadata": {},
     "output_type": "display_data"
    }
   ],
   "source": [
    "df_mod0['recence'].hist(bins=30)\n",
    "plt.title('Distribution de la Récence')\n",
    "plt.xlabel('Recence')\n",
    "plt.ylabel('Nombre de Clients')\n",
    "plt.show()\n",
    "\n",
    "df_mod0['montant_total'].hist(bins=30)\n",
    "plt.title('Distribution du Montant Total')\n",
    "plt.xlabel('Montant Total')\n",
    "plt.ylabel('Nombre de Clients')\n",
    "plt.show()\n"
   ]
  },
  {
   "cell_type": "code",
   "execution_count": 13,
   "id": "e9a1c2f7",
   "metadata": {},
   "outputs": [
    {
     "data": {
      "image/png": "[encoded data removed]",
      "text/plain": [
       "<Figure size 640x480 with 1 Axes>"
      ]
     },
     "metadata": {},
     "output_type": "display_data"
    },
    {
     "data": {
      "image/png": "[encoded data removed]",
      "text/plain": [
       "<Figure size 640x480 with 1 Axes>"
      ]
     },
     "metadata": {},
     "output_type": "display_data"
    }
   ],
   "source": [
    "df_mod1['recence'].hist(bins=30)\n",
    "plt.title('Distribution de la Récence')\n",
    "plt.xlabel('Recence')\n",
    "plt.ylabel('Nombre de Clients')\n",
    "plt.show()\n",
    "\n",
    "df_mod1['montant_total'].hist(bins=30)\n",
    "plt.title('Distribution du Montant Total')\n",
    "plt.xlabel('Montant Total')\n",
    "plt.ylabel('Nombre de Clients')\n",
    "plt.show()\n"
   ]
  },
  {
   "cell_type": "markdown",
   "id": "e9299dcf",
   "metadata": {},
   "source": [
    "## Validation des Plages de Récence"
   ]
  },
  {
   "cell_type": "code",
   "execution_count": 14,
   "id": "abdf2e5e",
   "metadata": {},
   "outputs": [
    {
     "name": "stdout",
     "output_type": "stream",
     "text": [
      "La récence devrait être comprise entre 259 et 736 jours.\n"
     ]
    }
   ],
   "source": [
    "date_reference = datetime(2018, 10, 17)\n",
    "date_debut = datetime(2016, 10, 11)\n",
    "date_fin = datetime(2018, 1, 31)\n",
    "\n",
    "# Calcul des jours de récence pour le début et la fin de la période\n",
    "recence_debut = (date_reference - date_debut).days\n",
    "recence_fin = (date_reference - date_fin).days\n",
    "\n",
    "print(f\"La récence devrait être comprise entre {recence_fin} et {recence_debut} jours.\")\n"
   ]
  },
  {
   "cell_type": "code",
   "execution_count": 15,
   "id": "dc392952",
   "metadata": {},
   "outputs": [
    {
     "name": "stdout",
     "output_type": "stream",
     "text": [
      "La récence devrait être comprise entre 252 et 736 jours.\n"
     ]
    }
   ],
   "source": [
    "date_reference = datetime(2018, 10, 17)\n",
    "date_debut = datetime(2016, 10, 11)\n",
    "date_fin = datetime(2018, 2, 7)\n",
    "\n",
    "# Calcul des jours de récence pour le début et la fin de la période\n",
    "recence_debut = (date_reference - date_debut).days\n",
    "recence_fin = (date_reference - date_fin).days\n",
    "\n",
    "print(f\"La récence devrait être comprise entre {recence_fin} et {recence_debut} jours.\")\n"
   ]
  },
  {
   "cell_type": "code",
   "execution_count": 16,
   "id": "957a4c4c",
   "metadata": {},
   "outputs": [
    {
     "name": "stdout",
     "output_type": "stream",
     "text": [
      "            recence     frequence  montant_total  score_review_minimum\n",
      "count  45730.000000  45730.000000   45730.000000          45730.000000\n",
      "mean     402.782846      1.030899     140.145068              4.175027\n",
      "std      103.043510      0.195811     218.967877              1.253786\n",
      "min      259.000741      1.000000       2.290000              1.000000\n",
      "25%      312.402216      1.000000      47.490000              4.000000\n",
      "50%      386.216748      1.000000      88.000000              5.000000\n",
      "75%      482.288990      1.000000     152.190000              5.000000\n",
      "max      735.426019      8.000000   13440.000000              5.000000\n"
     ]
    }
   ],
   "source": [
    "print(df_mod0.describe())"
   ]
  },
  {
   "cell_type": "code",
   "execution_count": 17,
   "id": "418cfbcd",
   "metadata": {},
   "outputs": [
    {
     "name": "stdout",
     "output_type": "stream",
     "text": [
      "            recence     frequence  montant_total  score_review_minimum\n",
      "count  47252.000000  47252.000000   47252.000000          47252.000000\n",
      "mean     397.935812      1.031131     139.861350              4.173263\n",
      "std      104.705477      0.196540     217.662073              1.255110\n",
      "min      252.000266      1.000000       2.290000              1.000000\n",
      "25%      307.491152      1.000000      47.490000              4.000000\n",
      "50%      381.355006      1.000000      88.900000              5.000000\n",
      "75%      477.468825      1.000000     152.000000              5.000000\n",
      "max      735.426019      8.000000   13440.000000              5.000000\n"
     ]
    }
   ],
   "source": [
    "print(df_mod1.describe())"
   ]
  },
  {
   "cell_type": "markdown",
   "id": "3055d5cb",
   "metadata": {},
   "source": [
    "**Préparation des Données**\n",
    "\n",
    "1. Normalisation des Données : Commence par normaliser tes données pour que toutes les caractéristiques contribuent équitablement au processus de clustering.\n",
    "\n",
    "2. Clustering Initial : Applique l'algorithme KMeans sur l'ensemble de données initial pour obtenir une première répartition des clusters.\n",
    "\n",
    "**Simulation de l'Évolution Hebdomadaire**\n",
    "\n",
    "1. Simulation Hebdomadaire : Pour chaque semaine, ajuste les caractéristiques des clients pour simuler l'évolution des données. Cela implique de modifier la récence, et potentiellement les autres caractéristiques si tu as des hypothèses ou des données sur leur évolution.\n",
    "\n",
    "2. Réapplication du Clustering et Mesure de la Stabilité : Après chaque ajustement, réapplique le clustering et compare les nouveaux clusters avec ceux de la semaine précédente en utilisant l'Adjusted Rand Index (ARI). Une baisse significative de l'ARI peut indiquer un besoin de réentraînement du modèle."
   ]
  },
  {
   "cell_type": "markdown",
   "id": "1a4c123d",
   "metadata": {},
   "source": [
    "## Étape 2: Normalisation\n",
    "Utilisons StandardScaler pour normaliser les caractéristiques."
   ]
  },
  {
   "cell_type": "code",
   "execution_count": 18,
   "id": "28de2f83",
   "metadata": {},
   "outputs": [],
   "source": [
    "# Normalisation des caractéristiques pour Modèle 0\n",
    "features_mod0 = df_mod0[['recence', 'frequence', 'montant_total', 'score_review_minimum']]\n",
    "scaler = StandardScaler().fit(features_mod0)  # Ajustement sur df_mod0\n",
    "scaled_features_mod0 = scaler.transform(features_mod0)\n",
    "\n",
    "# Pour Modèle 1, on extrait et normalise aussi les caractéristiques, y compris pour la semaine suivante\n",
    "features_mod1 = df_mod1[['recence', 'frequence', 'montant_total', 'score_review_minimum']]\n",
    "scaled_features_mod1 = scaler.transform(features_mod1)  # Utiliser le même scaler"
   ]
  },
  {
   "cell_type": "markdown",
   "id": "ac341f4c",
   "metadata": {},
   "source": [
    "## Étape 3 : Entraînement de Modèle 0\n",
    "\n",
    "Maintenant que nous avons normalisé les caractéristiques pour Modèle 0, entraînons ce modèle sur ces caractéristiques normalisées."
   ]
  },
  {
   "cell_type": "code",
   "execution_count": 19,
   "id": "556ee7c0",
   "metadata": {},
   "outputs": [
    {
     "data": {
      "text/plain": [
       "KMeans(n_clusters=5, random_state=42)"
      ]
     },
     "execution_count": 19,
     "metadata": {},
     "output_type": "execute_result"
    }
   ],
   "source": [
    "# Entraînement de Modèle 0 avec KMeans\n",
    "model_mod0 = KMeans(n_clusters=5, random_state=42)\n",
    "model_mod0.fit(scaled_features_mod0)"
   ]
  },
  {
   "cell_type": "markdown",
   "id": "e47ea6b6",
   "metadata": {},
   "source": [
    "## Étape 4 : Prédiction pour la Semaine Suivante avec Modèle 0\n",
    "\n",
    "Ensuite, nous allons utiliser Modèle 0 pour prédire les clusters pour les données de la semaine suivante. Nous avons déjà extrait et normalisé ces données (scaled_features_next_week), donc nous pouvons directement faire les prédictions."
   ]
  },
  {
   "cell_type": "code",
   "execution_count": 20,
   "id": "f51ca6e0",
   "metadata": {},
   "outputs": [],
   "source": [
    "# Étape 1: Extraction des données pour la semaine suivante\n",
    "df_next_week = collecte_donnees(date_debut='2016-10-11', date_fin='2018-02-07')\n",
    "\n",
    "# Étape 2: Sélection des caractéristiques pour la semaine suivante\n",
    "features_next_week = df_next_week[['recence', 'frequence', 'montant_total', 'score_review_minimum']]\n",
    "\n",
    "# Étape 3: Normalisation des caractéristiques pour la semaine suivante\n",
    "scaled_features_next_week = scaler.transform(features_next_week)\n",
    "\n",
    "labels_next_week_pred_by_mod0 = model_mod0.predict(scaled_features_next_week)"
   ]
  },
  {
   "cell_type": "markdown",
   "id": "6dd5ccda",
   "metadata": {},
   "source": [
    "## Étape 5 : Entraînement de Modèle 1\n",
    "\n",
    "Maintenant, entraînons Modèle 1 sur l'ensemble des données incluant la semaine suivante, en utilisant les caractéristiques normalisées que nous avons préparées."
   ]
  },
  {
   "cell_type": "code",
   "execution_count": 21,
   "id": "70b1c185",
   "metadata": {},
   "outputs": [],
   "source": [
    "# Entraînement de Modèle 1 avec KMeans\n",
    "model_mod1 = KMeans(n_clusters=5, random_state=42)\n",
    "model_mod1.fit(scaled_features_mod1)\n",
    "\n",
    "# Obtention des labels pour Modèle 1\n",
    "labels_mod1 = model_mod1.labels_"
   ]
  },
  {
   "cell_type": "markdown",
   "id": "388fb16d",
   "metadata": {},
   "source": [
    "## Étape 6 : Comparaison des Résultats avec ARI\n",
    "\n",
    "Enfin, comparons les résultats des clusters prédits par Modèle 0 pour la semaine suivante avec ceux obtenus par Modèle 1 pour la même période en utilisant l'ARI."
   ]
  },
  {
   "cell_type": "code",
   "execution_count": 22,
   "id": "91b6864d",
   "metadata": {},
   "outputs": [
    {
     "name": "stdout",
     "output_type": "stream",
     "text": [
      "Score ARI entre les prédictions de Modèle 0 pour la semaine suivante et Modèle 1: 0.9706582106811112\n"
     ]
    }
   ],
   "source": [
    "# Calcul de l'ARI\n",
    "# Remarque : dans un cas réel, assurez-vous que labels_mod1_for_next_week correspond aux labels de la semaine suivante.\n",
    "ari_score = adjusted_rand_score(labels_next_week_pred_by_mod0, labels_mod1)\n",
    "\n",
    "print(f\"Score ARI entre les prédictions de Modèle 0 pour la semaine suivante et Modèle 1: {ari_score}\")"
   ]
  },
  {
   "cell_type": "markdown",
   "id": "a6b27e55",
   "metadata": {},
   "source": [
    "## Etape 7 : Automatisation sur 12 semaines "
   ]
  },
  {
   "cell_type": "markdown",
   "id": "66a679e7",
   "metadata": {},
   "source": [
    "Ce code automatise le processus d'évaluation de la stabilité des clusters dans le temps sur une période de 12 semaines, en utilisant des modèles de clustering KMeans. Voici ce qu'il fait concrètement, étape par étape :\n",
    "\n",
    "1. Préparation Initiale et Entraînement de Modèle 0 :\n",
    "\n",
    "* Collecte des données depuis le début (2016-10-11) jusqu'à 2018-01-31 pour former un ensemble de données de base.\n",
    "* Sélection des caractéristiques pertinentes pour le clustering (recence, frequence, montant_total, score_review_minimum) à partir de cet ensemble de données.\n",
    "* Normalisation de ces caractéristiques à l'aide de StandardScaler.\n",
    "* Entraînement du Modèle 0 (un modèle KMeans avec 5 clusters) sur les caractéristiques normalisées.\n",
    "\n",
    "\n",
    "2. Boucle sur 12 Semaines :\n",
    "\n",
    "* Pour chaque semaine suivant 2018-01-31, le code calcule la date de fin pour cette semaine.\n",
    "* Il collecte ensuite les données depuis le début jusqu'à la date de fin de la semaine actuelle.\n",
    "* Les caractéristiques sélectionnées sont normalisées en utilisant le même StandardScaler ajusté sur l'ensemble de données de base.\n",
    "* Le Modèle 0, déjà entraîné, est utilisé pour prédire les clusters pour l'ensemble de données étendu jusqu'à la fin de la semaine actuelle.\n",
    "\n",
    "\n",
    "3. Entraînement de Modèle 1 :\n",
    "\n",
    "* Un nouveau modèle KMeans (Modèle 1) est entraîné sur les mêmes caractéristiques normalisées pour l'ensemble de données étendu de la période actuelle.\n",
    "\n",
    "\n",
    "4. Comparaison des Clusters avec l'Adjusted Rand Index (ARI) :\n",
    "\n",
    "* Le code calcule l'ARI entre les clusters prédits par Modèle 0 et ceux obtenus par Modèle 1 pour la période actuelle. Cela mesure la similitude entre les deux ensembles de clusters et sert d'indicateur de la stabilité des clusters dans le temps."
   ]
  },
  {
   "cell_type": "code",
   "execution_count": 23,
   "id": "9b2e0c6d",
   "metadata": {},
   "outputs": [
    {
     "name": "stdout",
     "output_type": "stream",
     "text": [
      "Semaine 1: ARI = 0.9714758247478267\n",
      "Semaine 2: ARI = 0.9442954284155339\n",
      "Semaine 3: ARI = 0.9198409454785712\n",
      "Semaine 4: ARI = 0.8911151710580039\n",
      "Semaine 5: ARI = 0.8842880190152195\n",
      "Semaine 6: ARI = 0.8692858369370704\n",
      "Semaine 7: ARI = 0.8477718232524482\n",
      "Semaine 8: ARI = 0.803736544632822\n",
      "Semaine 9: ARI = 0.7914657313857845\n",
      "Semaine 10: ARI = 0.7595880943039054\n",
      "Semaine 11: ARI = 0.7453238078469516\n",
      "Semaine 12: ARI = 0.7283947438271764\n",
      "Scores ARI pour les 12 semaines : [0.9714758247478267, 0.9442954284155339, 0.9198409454785712, 0.8911151710580039, 0.8842880190152195, 0.8692858369370704, 0.8477718232524482, 0.803736544632822, 0.7914657313857845, 0.7595880943039054, 0.7453238078469516, 0.7283947438271764]\n"
     ]
    }
   ],
   "source": [
    "# Définition initiale des périodes\n",
    "date_debut_initiale = '2016-10-11'\n",
    "date_fin_base = datetime.strptime('2018-01-31', '%Y-%m-%d')\n",
    "nb_semaines = 12\n",
    "\n",
    "# Préparation initiale et entraînement de Modèle 0\n",
    "df_base = collecte_donnees(date_debut_initiale, date_fin_base.strftime('%Y-%m-%d'))\n",
    "features_base = df_base[['recence', 'frequence', 'montant_total', 'score_review_minimum']]\n",
    "scaler = StandardScaler().fit(features_base)\n",
    "scaled_features_base = scaler.transform(features_base)\n",
    "\n",
    "model_mod0 = KMeans(n_clusters=5, random_state=42)\n",
    "model_mod0.fit(scaled_features_base)\n",
    "\n",
    "ari_scores = []\n",
    "\n",
    "for i in range(nb_semaines):\n",
    "    # Calcul des dates de fin pour chaque semaine suivante\n",
    "    date_fin_semaine = date_fin_base + timedelta(weeks=i+1)\n",
    "\n",
    "    # Collecte et préparation des données pour toute la période jusqu'à la fin de la semaine actuelle\n",
    "    df_semaine = collecte_donnees(date_debut_initiale, date_fin_semaine.strftime('%Y-%m-%d'))\n",
    "    features_semaine = df_semaine[['recence', 'frequence', 'montant_total', 'score_review_minimum']]\n",
    "    scaled_features_semaine = scaler.transform(features_semaine)\n",
    "\n",
    "    # Prédiction avec Modèle 0 pour toute la période jusqu'à la semaine actuelle\n",
    "    labels_pred_by_mod0 = model_mod0.predict(scaled_features_semaine)\n",
    "\n",
    "    # Entraînement de Modèle 1 avec les données de toute la période jusqu'à la fin de la semaine actuelle\n",
    "    scaler1 = StandardScaler().fit(features_semaine)\n",
    "    scaled_features_semaine = scaler1.transform(features_semaine)\n",
    "    \n",
    "    model_mod1 = KMeans(n_clusters=5, random_state=42)\n",
    "    model_mod1.fit(scaled_features_semaine)\n",
    "\n",
    "    # Calcul de l'ARI entre les prédictions de Modèle 0 et les clusters de Modèle 1 pour la période actuelle\n",
    "    ari_score = adjusted_rand_score(labels_pred_by_mod0, model_mod1.labels_)\n",
    "    ari_scores.append(ari_score)\n",
    "    print(f\"Semaine {i+1}: ARI = {ari_score}\")\n",
    "\n",
    "# Affichage des scores ARI pour chaque semaine\n",
    "print(\"Scores ARI pour les 12 semaines :\", ari_scores)"
   ]
  },
  {
   "cell_type": "markdown",
   "id": "22020244",
   "metadata": {},
   "source": [
    "L'analyse des scores ARI montre une tendance claire : la similitude entre les clusters déterminés par le Modèle 0 et ceux obtenus par le Modèle 1 diminue progressivement au fil des semaines. Voici ce que cela signifie en termes d'interprétation :\n",
    "\n",
    "### Semaines 1 à 3\n",
    "Au début, les scores ARI sont relativement élevés, avec un score de 0.97 pour la première semaine, ce qui indique une très forte similitude entre les clusters prédits par Modèle 0 et ceux générés par Modèle 1. Cela suggère que les clusters initiaux formés par Modèle 0 restent assez stables et cohérents même lorsque de nouvelles données sont ajoutées.\n",
    "\n",
    "### Semaines 4 à 8\n",
    "À partir de la quatrième semaine, les scores ARI commencent à diminuer plus nettement, passant de 0.886 à 0.800. Cela indique que les différences entre les structures de clusters commencent à devenir plus marquées. Les nouveaux clusters formés par Modèle 1 à mesure que de nouvelles données sont intégrées commencent à diverger de ceux prédits par Modèle 0 sur la base des données initiales.\n",
    "\n",
    "### Semaines 9 à 12\n",
    "Vers la fin de la période d'analyse, les scores ARI continuent de baisser, atteignant un niveau de 0.721 à la douzième semaine. Cette baisse continue de l'ARI montre que la divergence entre les structures de clusters s'accentue avec le temps. Les clusters deviennent de moins en moins similaires, indiquant que les structures initiales de clusters peuvent ne pas être stables face à l'ajout de nouvelles données.\n",
    "\n",
    "### Conclusion : Points Clés d'Intervention pour le Réentraînement\n",
    "1. Après une Chute Notable de l'ARI : Un bon indicateur pour le réentraînement peut être identifié lorsque l'on observe une chute notable du score ARI d'une semaine à l'autre. Par exemple, entre la semaine 7 et la semaine 8, le score ARI passe de 0.841 à 0.800. Ce point marque une divergence croissante et pourrait être un moment opportun pour réentraîner le modèle afin de réaligner les clusters avec les tendances actuelles des données.\n",
    "\n",
    "2. Seuils d'ARI : On pourrait définir un seuil d'ARI en dessous duquel le modèle doit être réentraîné. Si nous prenons l'évolution progressive des scores ARI, un seuil pourrait être fixé, par exemple, à 0.85 ou 0.80. Lorsque le score ARI passe en dessous de ce seuil, cela indiquerait le besoin de réentraîner le modèle. D'après les scores fournis, cela suggérerait un réentraînement quelque part entre la semaine 7 et la semaine 8."
   ]
  },
  {
   "cell_type": "code",
   "execution_count": null,
   "id": "34ce7dee",
   "metadata": {},
   "outputs": [],
   "source": []
  }
 ],
 "metadata": {
  "kernelspec": {
   "display_name": "Python 3 (ipykernel)",
   "language": "python",
   "name": "python3"
  },
  "language_info": {
   "codemirror_mode": {
    "name": "ipython",
    "version": 3
   },
   "file_extension": ".py",
   "mimetype": "text/x-python",
   "name": "python",
   "nbconvert_exporter": "python",
   "pygments_lexer": "ipython3",
   "version": "3.9.13"
  }
 },
 "nbformat": 4,
 "nbformat_minor": 5
}
